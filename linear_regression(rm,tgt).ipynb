{
 "cells": [
  {
   "cell_type": "code",
   "execution_count": 2,
   "metadata": {},
   "outputs": [],
   "source": [
    "import numpy as np\n",
    "import matplotlib.pyplot as plt\n",
    "import pandas as pd\n",
    "from sklearn.datasets import load_boston "
   ]
  },
  {
   "cell_type": "code",
   "execution_count": 3,
   "metadata": {},
   "outputs": [],
   "source": [
    "boston = load_boston()"
   ]
  },
  {
   "cell_type": "code",
   "execution_count": 4,
   "metadata": {},
   "outputs": [],
   "source": [
    "features = pd.DataFrame(boston.data, columns=boston.feature_names)\n",
    "target = pd.DataFrame(boston.target, columns=['TARGET'] )"
   ]
  },
  {
   "cell_type": "code",
   "execution_count": 5,
   "metadata": {},
   "outputs": [],
   "source": [
    "data=pd.concat([features, target], axis=1)"
   ]
  },
  {
   "cell_type": "code",
   "execution_count": 6,
   "metadata": {},
   "outputs": [],
   "source": [
    "sep = 0.8*len(data)\n",
    "sep = int(sep)\n",
    "\n",
    "x_train = np.array(data['RM'] [:sep])\n",
    "y_train = np.array(data['TARGET'] [:sep])\n",
    "\n",
    "x_test=np.array(data['RM'][sep:])\n",
    "y_test=np.array(data['TARGET'][sep:])\n",
    "\n",
    "x_train=x_train/x_train.mean()\n",
    "y_train=y_train/y_train.mean()\n",
    "\n",
    "x_test=x_test/x_test.mean()\n",
    "y_test=y_test/y_test.mean()"
   ]
  },
  {
   "cell_type": "code",
   "execution_count": 8,
   "metadata": {},
   "outputs": [
    {
     "data": {
      "text/plain": [
       "[<matplotlib.lines.Line2D at 0x202ebe60438>]"
      ]
     },
     "execution_count": 8,
     "metadata": {},
     "output_type": "execute_result"
    },
    {
     "data": {
      "image/png": "[encoded data removed]",
      "text/plain": [
       "<Figure size 432x288 with 1 Axes>"
      ]
     },
     "metadata": {},
     "output_type": "display_data"
    }
   ],
   "source": [
    "plt.plot(x_train,y_train,'b.')\n"
   ]
  },
  {
   "cell_type": "code",
   "execution_count": 51,
   "metadata": {},
   "outputs": [],
   "source": [
    "def hypothesis(a,b,x):\n",
    "    return (a*x+b)"
   ]
  },
  {
   "cell_type": "code",
   "execution_count": 52,
   "metadata": {},
   "outputs": [],
   "source": [
    "def error(a,b,x,y):\n",
    "    e=0\n",
    "    m=len(y)\n",
    "    for i in range(m):\n",
    "        e +=np.power(hypothesis(a,b,x[i])-y[i],2)\n",
    "    return (1/(2*m))*e"
   ]
  },
  {
   "cell_type": "code",
   "execution_count": 53,
   "metadata": {},
   "outputs": [],
   "source": [
    "def step_gradient(a,b,x,y,learning_rate):\n",
    "    grad_a=0\n",
    "    grad_b=0\n",
    "    m=len(y)\n",
    "    for i in range(m):\n",
    "        grad_a += 2/m *((hypothesis(a,b,x[i])-y[i]) * x[i])\n",
    "        grad_b += 2/m *(hypothesis(a,b,x[i])-y[i]) \n",
    "        \n",
    "    a=a-(grad_a*learning_rate)\n",
    "    b=b-(grad_b*learning_rate)\n",
    "    \n",
    "    return a,b"
   ]
  },
  {
   "cell_type": "code",
   "execution_count": 54,
   "metadata": {},
   "outputs": [],
   "source": [
    "def descend(initial_a,initial_b,x,y,learning_rate,iterations):\n",
    "    a=initial_a\n",
    "    b=initial_b\n",
    "    for i in range(iterations):\n",
    "        e = error(a,b,x,y)\n",
    "        a,b = step_gradient(a,b,x,y,learning_rate)\n",
    "        if i % 1000 == 0:\n",
    "            print(f\"Error:{e}, a:{a}, b:{b}\")\n",
    "        a,b = step_gradient(a,b,x,y,learning_rate)\n",
    "                  \n",
    "    return a,b"
   ]
  },
  {
   "cell_type": "code",
   "execution_count": 58,
   "metadata": {},
   "outputs": [],
   "source": [
    "init_a=0\n",
    "init_b=0\n",
    "iters=10000\n",
    "learning_rate=0.01"
   ]
  },
  {
   "cell_type": "code",
   "execution_count": 59,
   "metadata": {},
   "outputs": [
    {
     "name": "stdout",
     "output_type": "stream",
     "text": [
      "Error:0.5731901720028545, a:0.020660080154957843, b:0.01999999999999999\n",
      "Error:0.04754528884032505, a:0.9677116111407453, b:0.04237719101209513\n",
      "Error:0.04126796276856179, a:1.319787572332104, b:-0.3120520397808212\n",
      "Error:0.03757754176233279, a:1.5897398438763721, b:-0.5838086676132802\n",
      "Error:0.03540795441773437, a:1.7967242362936118, b:-0.792176540109717\n",
      "Error:0.03413246058169318, a:1.9554283600235338, b:-0.9519414394425844\n",
      "Error:0.0333826016143511, a:2.0771138581170816, b:-1.0744402812891258\n",
      "Error:0.0329417617960667, a:2.1704155323159964, b:-1.1683655822557517\n",
      "Error:0.03268259340060975, a:2.241954068499079, b:-1.2403822807705365\n",
      "Error:0.032530229085006114, a:2.2968058404866523, b:-1.2956006810481333\n"
     ]
    }
   ],
   "source": [
    "final_a,final_b=descend(init_a,init_b,x_train,y_train,learning_rate,iters)"
   ]
  },
  {
   "cell_type": "code",
   "execution_count": 60,
   "metadata": {},
   "outputs": [
    {
     "data": {
      "text/plain": [
       "[<matplotlib.lines.Line2D at 0x202ed0939e8>,\n",
       " <matplotlib.lines.Line2D at 0x202ed18be10>]"
      ]
     },
     "execution_count": 60,
     "metadata": {},
     "output_type": "execute_result"
    },
    {
     "data": {
      "image/png": "[encoded data removed]",
      "text/plain": [
       "<Figure size 432x288 with 1 Axes>"
      ]
     },
     "metadata": {},
     "output_type": "display_data"
    }
   ],
   "source": [
    "plt.plot(x_train, y_train, 'r.', x_train, hypothesis(init_a, init_b, x_train), 'b')\n",
    "plt.plot(x_train, y_train, 'r.', x_train, hypothesis(final_a, final_b, x_train), 'g')"
   ]
  },
  {
   "cell_type": "code",
   "execution_count": null,
   "metadata": {},
   "outputs": [],
   "source": []
  }
 ],
 "metadata": {
  "kernelspec": {
   "display_name": "Python 3",
   "language": "python",
   "name": "python3"
  },
  "language_info": {
   "codemirror_mode": {
    "name": "ipython",
    "version": 3
   },
   "file_extension": ".py",
   "mimetype": "text/x-python",
   "name": "python",
   "nbconvert_exporter": "python",
   "pygments_lexer": "ipython3",
   "version": "3.6.5"
  }
 },
 "nbformat": 4,
 "nbformat_minor": 2
}
